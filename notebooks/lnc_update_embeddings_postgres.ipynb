{
 "cells": [
  {
   "cell_type": "code",
   "execution_count": 1,
   "id": "e12f8b75",
   "metadata": {},
   "outputs": [],
   "source": [
    "import psycopg2\n",
    "\n",
    "# Replace these values with your own database credentials\n",
    "db_host = \"192.168.1.2\"\n",
    "db_port = 55432\n",
    "db_name = \"lnc\"\n",
    "db_user = \"postgres\"\n",
    "db_password = \"postgres\"\n",
    "\n",
    "# Establish a connection to the PostgreSQL database\n",
    "connection = psycopg2.connect(\n",
    "    host=db_host,\n",
    "    port=db_port,\n",
    "    dbname=db_name,\n",
    "    user=db_user,\n",
    "    password=db_password\n",
    ")"
   ]
  },
  {
   "cell_type": "code",
   "execution_count": 2,
   "id": "680959d7-92e5-43d8-94d2-4427f7d44414",
   "metadata": {},
   "outputs": [],
   "source": [
    "cursor = connection.cursor()"
   ]
  },
  {
   "cell_type": "code",
   "execution_count": 3,
   "id": "e040b5d0",
   "metadata": {},
   "outputs": [],
   "source": [
    "cursor.execute(\"SELECT version();\")\n",
    "db_version = cursor.fetchone()"
   ]
  },
  {
   "cell_type": "code",
   "execution_count": 4,
   "id": "9cdcc2ab",
   "metadata": {},
   "outputs": [
    {
     "name": "stdout",
     "output_type": "stream",
     "text": [
      "Connected to PostgreSQL database. Version: ('PostgreSQL 15.2 (Debian 15.2-1.pgdg110+1) on x86_64-pc-linux-gnu, compiled by gcc (Debian 10.2.1-6) 10.2.1 20210110, 64-bit',)\n"
     ]
    }
   ],
   "source": [
    "print(\"Connected to PostgreSQL database. Version:\", db_version)"
   ]
  },
  {
   "cell_type": "code",
   "execution_count": 5,
   "id": "f6f72a77",
   "metadata": {},
   "outputs": [],
   "source": [
    "import spacy\n",
    "nlp = spacy.load(\"el_core_news_sm\")"
   ]
  },
  {
   "cell_type": "code",
   "execution_count": 6,
   "id": "01d3304b",
   "metadata": {},
   "outputs": [],
   "source": [
    "from sentence_transformers import SentenceTransformer\n",
    "model = SentenceTransformer('lighteternal/stsb-xlm-r-greek-transfer')"
   ]
  },
  {
   "cell_type": "code",
   "execution_count": 7,
   "id": "c39b512b-0374-4850-8ebe-c24b9f6a5caf",
   "metadata": {},
   "outputs": [],
   "source": [
    "model = model.to('cuda')"
   ]
  },
  {
   "cell_type": "code",
   "execution_count": 8,
   "id": "49647c79-413c-4d79-b86f-f55a716e5368",
   "metadata": {},
   "outputs": [
    {
     "name": "stdout",
     "output_type": "stream",
     "text": [
      "cuda:0\n"
     ]
    }
   ],
   "source": [
    "print(model.device)"
   ]
  },
  {
   "cell_type": "code",
   "execution_count": 9,
   "id": "e6a66284",
   "metadata": {},
   "outputs": [],
   "source": [
    "from tqdm import tqdm\n",
    "import numpy as np\n",
    "from sentence_transformers import SentenceTransformer\n",
    "import spacy"
   ]
  },
  {
   "cell_type": "code",
   "execution_count": 10,
   "id": "ce1a9ae7-3d3a-4dc8-8531-38a586c91b67",
   "metadata": {},
   "outputs": [],
   "source": [
    "def process_paragraphs(paragraphs):\n",
    "    # Split each paragraph into sentences\n",
    "    docs = list(nlp.pipe(paragraphs))\n",
    "    sentences = [[sent.text for sent in doc.sents] for doc in docs]\n",
    "\n",
    "    # Flatten the list of sentences\n",
    "    sentences_flat = [sent for sublist in sentences for sent in sublist]\n",
    "\n",
    "    # print(\"Batch Sentences size:\" + str(len(sentences_flat)))\n",
    "\n",
    "    # Generate an embedding for each sentence\n",
    "    embeddings = model.encode(sentences_flat)\n",
    "\n",
    "    # Reshape the embeddings to match the original structure\n",
    "    embeddings = np.split(embeddings, np.cumsum([len(sents) for sents in sentences[:-1]]))\n",
    "\n",
    "    # Aggregate the embeddings by taking the mean\n",
    "    paragraph_embeddings = np.array([np.mean(emb, axis=0) for emb in embeddings])\n",
    "\n",
    "    return np.array(paragraph_embeddings).tolist()\n"
   ]
  },
  {
   "cell_type": "code",
   "execution_count": 11,
   "id": "5141b3ee-766d-4c75-949e-f3d56906a07d",
   "metadata": {},
   "outputs": [],
   "source": [
    "insert_query = \"UPDATE item SET paragraph_embeddings_avg = %s where id = %s\"\n",
    "select_query = \"\"\"\n",
    "        SELECT id, title, summary, content \n",
    "        FROM item \n",
    "        WHERE paragraph_embeddings_avg IS NULL\n",
    "        /* ORDER BY created_at ASC */\n",
    "        LIMIT 2048\n",
    "        \"\"\"\n",
    "count_query = \"\"\"\n",
    "        SELECT id\n",
    "        FROM item \n",
    "        WHERE paragraph_embeddings_avg IS NULL\n",
    "        \"\"\""
   ]
  },
  {
   "cell_type": "code",
   "execution_count": null,
   "id": "c6b78b93-5c52-4ab5-b3c9-31f58978c58d",
   "metadata": {},
   "outputs": [
    {
     "name": "stdout",
     "output_type": "stream",
     "text": [
      "Total rows: 56611\n"
     ]
    },
    {
     "data": {
      "application/vnd.jupyter.widget-view+json": {
       "model_id": "b884b896406c404f9e7272df0579e45e",
       "version_major": 2,
       "version_minor": 0
      },
      "text/plain": [
       "Processing rows:   0%|                                                                                        …"
      ]
     },
     "metadata": {},
     "output_type": "display_data"
    }
   ],
   "source": [
    "from tqdm.notebook import tqdm\n",
    "\n",
    "# Get total rows count\n",
    "with connection.cursor() as cursor:\n",
    "    cursor.execute(count_query)\n",
    "    total_rows = cursor.rowcount\n",
    "#total_rows = 7549902\n",
    "\n",
    "print (f\"Total rows: {total_rows}\")\n",
    "\n",
    "pbar = tqdm(total=total_rows, desc=\"Processing rows\", dynamic_ncols=True)\n",
    "\n",
    "while True:\n",
    "    try:\n",
    "        with connection.cursor() as cursor, connection.cursor() as bulk_cursor:\n",
    "            cursor.execute(select_query)\n",
    "            total_batch_rows = cursor.rowcount\n",
    "            rows = cursor.fetchall()\n",
    "            if not rows:\n",
    "                raise ValueError(\"No rows returned from select query.\")\n",
    "            paragraphs = []\n",
    "            ids = []\n",
    "            for row in rows:\n",
    "                id, title, summary, content = row\n",
    "                ids.append(id)\n",
    "                paragraph = f\"{title}. {(content or summary or '')}\"        \n",
    "                paragraphs.append(paragraph)\n",
    "        \n",
    "            paragraph_embeddings = process_paragraphs(paragraphs)\n",
    "\n",
    "            # Check if the number of paragraphs and ids match\n",
    "            if len(paragraphs) != len(ids):\n",
    "                raise ValueError(\"Mismatch between number of paragraphs and ids.\")\n",
    "            \n",
    "            bulk_cursor.executemany(insert_query, zip(paragraph_embeddings, ids))\n",
    "            connection.commit()\n",
    "            \n",
    "            # Update the progress bar\n",
    "            pbar.update(total_batch_rows)\n",
    "    except Exception as e:\n",
    "        print(f\"An error occured: {e}\")\n",
    "        pbar.close()\n",
    "        break\n",
    "    "
   ]
  },
  {
   "cell_type": "code",
   "execution_count": null,
   "id": "a7e5c908",
   "metadata": {},
   "outputs": [],
   "source": []
  }
 ],
 "metadata": {
  "kernelspec": {
   "display_name": "Python 3 (ipykernel)",
   "language": "python",
   "name": "python3"
  },
  "language_info": {
   "codemirror_mode": {
    "name": "ipython",
    "version": 3
   },
   "file_extension": ".py",
   "mimetype": "text/x-python",
   "name": "python",
   "nbconvert_exporter": "python",
   "pygments_lexer": "ipython3",
   "version": "3.11.5"
  }
 },
 "nbformat": 4,
 "nbformat_minor": 5
}
