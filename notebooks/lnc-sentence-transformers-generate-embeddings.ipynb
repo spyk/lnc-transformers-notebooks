{
 "cells": [
  {
   "cell_type": "code",
   "execution_count": 1,
   "id": "bb1dd879-364a-4f0f-a762-a41e93bc5b9e",
   "metadata": {},
   "outputs": [
    {
     "name": "stdout",
     "output_type": "stream",
     "text": [
      "Requirement already satisfied: sentence_transformers in /home/spyros/miniconda3/envs/llms/lib/python3.11/site-packages (2.2.2)\n",
      "Requirement already satisfied: numpy in /home/spyros/miniconda3/envs/llms/lib/python3.11/site-packages (1.26.0)\n",
      "Collecting numpy\n",
      "  Obtaining dependency information for numpy from https://files.pythonhosted.org/packages/8a/08/a7e5dadc21fe193baea5f257e11b7b70cc27a89692fc9e3ed690e55cc4b6/numpy-1.26.1-cp311-cp311-manylinux_2_17_x86_64.manylinux2014_x86_64.whl.metadata\n",
      "  Using cached numpy-1.26.1-cp311-cp311-manylinux_2_17_x86_64.manylinux2014_x86_64.whl.metadata (61 kB)\n",
      "Requirement already satisfied: spacy in /home/spyros/miniconda3/envs/llms/lib/python3.11/site-packages (3.7.2)\n",
      "\u001b[31mERROR: Ignored the following versions that require a different python version: 1.21.2 Requires-Python >=3.7,<3.11; 1.21.3 Requires-Python >=3.7,<3.11; 1.21.4 Requires-Python >=3.7,<3.11; 1.21.5 Requires-Python >=3.7,<3.11; 1.21.6 Requires-Python >=3.7,<3.11\u001b[0m\u001b[31m\n",
      "\u001b[0m\u001b[31mERROR: Could not find a version that satisfies the requirement tarfile (from versions: none)\u001b[0m\u001b[31m\n",
      "\u001b[0m\u001b[31mERROR: No matching distribution found for tarfile\u001b[0m\u001b[31m\n",
      "\u001b[0m"
     ]
    }
   ],
   "source": [
    "!pip install -U sentence_transformers numpy spacy tarfile"
   ]
  },
  {
   "cell_type": "code",
   "execution_count": 1,
   "id": "6f475767-9675-4298-8572-f4be6f7ee28e",
   "metadata": {},
   "outputs": [],
   "source": [
    "import tarfile\n",
    "import numpy as np\n",
    "from sentence_transformers import SentenceTransformer\n",
    "import spacy\n",
    "import csv\n",
    "import time"
   ]
  },
  {
   "cell_type": "code",
   "execution_count": 2,
   "id": "723810ea-2fdd-4837-bb43-c7abcb403bbc",
   "metadata": {},
   "outputs": [
    {
     "name": "stdout",
     "output_type": "stream",
     "text": [
      "/home/spyros/miniconda3/envs/llms/lib/python3.11/site-packages/torch/cuda/__init__.py:138: UserWarning: CUDA initialization: CUDA unknown error - this may be due to an incorrectly set up environment, e.g. changing env variable CUDA_VISIBLE_DEVICES after program start. Setting the available devices to be zero. (Triggered internally at ../c10/cuda/CUDAFunctions.cpp:108.)\n",
      "  return torch._C._cuda_getDeviceCount() > 0\n",
      "Collecting el-core-news-sm==3.7.0\n",
      "  Using cached https://github.com/explosion/spacy-models/releases/download/el_core_news_sm-3.7.0/el_core_news_sm-3.7.0-py3-none-any.whl (12.6 MB)\n",
      "Requirement already satisfied: spacy<3.8.0,>=3.7.0 in /home/spyros/miniconda3/envs/llms/lib/python3.11/site-packages (from el-core-news-sm==3.7.0) (3.7.2)\n",
      "Requirement already satisfied: spacy-legacy<3.1.0,>=3.0.11 in /home/spyros/miniconda3/envs/llms/lib/python3.11/site-packages (from spacy<3.8.0,>=3.7.0->el-core-news-sm==3.7.0) (3.0.12)\n",
      "Requirement already satisfied: spacy-loggers<2.0.0,>=1.0.0 in /home/spyros/miniconda3/envs/llms/lib/python3.11/site-packages (from spacy<3.8.0,>=3.7.0->el-core-news-sm==3.7.0) (1.0.5)\n",
      "Requirement already satisfied: murmurhash<1.1.0,>=0.28.0 in /home/spyros/miniconda3/envs/llms/lib/python3.11/site-packages (from spacy<3.8.0,>=3.7.0->el-core-news-sm==3.7.0) (1.0.10)\n",
      "Requirement already satisfied: cymem<2.1.0,>=2.0.2 in /home/spyros/miniconda3/envs/llms/lib/python3.11/site-packages (from spacy<3.8.0,>=3.7.0->el-core-news-sm==3.7.0) (2.0.8)\n",
      "Requirement already satisfied: preshed<3.1.0,>=3.0.2 in /home/spyros/miniconda3/envs/llms/lib/python3.11/site-packages (from spacy<3.8.0,>=3.7.0->el-core-news-sm==3.7.0) (3.0.9)\n",
      "Requirement already satisfied: thinc<8.3.0,>=8.1.8 in /home/spyros/miniconda3/envs/llms/lib/python3.11/site-packages (from spacy<3.8.0,>=3.7.0->el-core-news-sm==3.7.0) (8.2.1)\n",
      "Requirement already satisfied: wasabi<1.2.0,>=0.9.1 in /home/spyros/miniconda3/envs/llms/lib/python3.11/site-packages (from spacy<3.8.0,>=3.7.0->el-core-news-sm==3.7.0) (1.1.2)\n",
      "Requirement already satisfied: srsly<3.0.0,>=2.4.3 in /home/spyros/miniconda3/envs/llms/lib/python3.11/site-packages (from spacy<3.8.0,>=3.7.0->el-core-news-sm==3.7.0) (2.4.8)\n",
      "Requirement already satisfied: catalogue<2.1.0,>=2.0.6 in /home/spyros/miniconda3/envs/llms/lib/python3.11/site-packages (from spacy<3.8.0,>=3.7.0->el-core-news-sm==3.7.0) (2.0.10)\n",
      "Requirement already satisfied: weasel<0.4.0,>=0.1.0 in /home/spyros/miniconda3/envs/llms/lib/python3.11/site-packages (from spacy<3.8.0,>=3.7.0->el-core-news-sm==3.7.0) (0.3.3)\n",
      "Requirement already satisfied: typer<0.10.0,>=0.3.0 in /home/spyros/miniconda3/envs/llms/lib/python3.11/site-packages (from spacy<3.8.0,>=3.7.0->el-core-news-sm==3.7.0) (0.9.0)\n",
      "Requirement already satisfied: smart-open<7.0.0,>=5.2.1 in /home/spyros/miniconda3/envs/llms/lib/python3.11/site-packages (from spacy<3.8.0,>=3.7.0->el-core-news-sm==3.7.0) (6.4.0)\n",
      "Requirement already satisfied: tqdm<5.0.0,>=4.38.0 in /home/spyros/miniconda3/envs/llms/lib/python3.11/site-packages (from spacy<3.8.0,>=3.7.0->el-core-news-sm==3.7.0) (4.66.1)\n",
      "Requirement already satisfied: requests<3.0.0,>=2.13.0 in /home/spyros/miniconda3/envs/llms/lib/python3.11/site-packages (from spacy<3.8.0,>=3.7.0->el-core-news-sm==3.7.0) (2.31.0)\n",
      "Requirement already satisfied: pydantic!=1.8,!=1.8.1,<3.0.0,>=1.7.4 in /home/spyros/miniconda3/envs/llms/lib/python3.11/site-packages (from spacy<3.8.0,>=3.7.0->el-core-news-sm==3.7.0) (2.4.2)\n",
      "Requirement already satisfied: jinja2 in /home/spyros/miniconda3/envs/llms/lib/python3.11/site-packages (from spacy<3.8.0,>=3.7.0->el-core-news-sm==3.7.0) (3.1.2)\n",
      "Requirement already satisfied: setuptools in /home/spyros/miniconda3/envs/llms/lib/python3.11/site-packages (from spacy<3.8.0,>=3.7.0->el-core-news-sm==3.7.0) (68.2.2)\n",
      "Requirement already satisfied: packaging>=20.0 in /home/spyros/miniconda3/envs/llms/lib/python3.11/site-packages (from spacy<3.8.0,>=3.7.0->el-core-news-sm==3.7.0) (23.1)\n",
      "Requirement already satisfied: langcodes<4.0.0,>=3.2.0 in /home/spyros/miniconda3/envs/llms/lib/python3.11/site-packages (from spacy<3.8.0,>=3.7.0->el-core-news-sm==3.7.0) (3.3.0)\n",
      "Requirement already satisfied: numpy>=1.19.0 in /home/spyros/miniconda3/envs/llms/lib/python3.11/site-packages (from spacy<3.8.0,>=3.7.0->el-core-news-sm==3.7.0) (1.26.0)\n",
      "Requirement already satisfied: annotated-types>=0.4.0 in /home/spyros/miniconda3/envs/llms/lib/python3.11/site-packages (from pydantic!=1.8,!=1.8.1,<3.0.0,>=1.7.4->spacy<3.8.0,>=3.7.0->el-core-news-sm==3.7.0) (0.6.0)\n",
      "Requirement already satisfied: pydantic-core==2.10.1 in /home/spyros/miniconda3/envs/llms/lib/python3.11/site-packages (from pydantic!=1.8,!=1.8.1,<3.0.0,>=1.7.4->spacy<3.8.0,>=3.7.0->el-core-news-sm==3.7.0) (2.10.1)\n",
      "Requirement already satisfied: typing-extensions>=4.6.1 in /home/spyros/miniconda3/envs/llms/lib/python3.11/site-packages (from pydantic!=1.8,!=1.8.1,<3.0.0,>=1.7.4->spacy<3.8.0,>=3.7.0->el-core-news-sm==3.7.0) (4.7.1)\n",
      "Requirement already satisfied: charset-normalizer<4,>=2 in /home/spyros/miniconda3/envs/llms/lib/python3.11/site-packages (from requests<3.0.0,>=2.13.0->spacy<3.8.0,>=3.7.0->el-core-news-sm==3.7.0) (3.2.0)\n",
      "Requirement already satisfied: idna<4,>=2.5 in /home/spyros/miniconda3/envs/llms/lib/python3.11/site-packages (from requests<3.0.0,>=2.13.0->spacy<3.8.0,>=3.7.0->el-core-news-sm==3.7.0) (3.4)\n",
      "Requirement already satisfied: urllib3<3,>=1.21.1 in /home/spyros/miniconda3/envs/llms/lib/python3.11/site-packages (from requests<3.0.0,>=2.13.0->spacy<3.8.0,>=3.7.0->el-core-news-sm==3.7.0) (2.0.4)\n",
      "Requirement already satisfied: certifi>=2017.4.17 in /home/spyros/miniconda3/envs/llms/lib/python3.11/site-packages (from requests<3.0.0,>=2.13.0->spacy<3.8.0,>=3.7.0->el-core-news-sm==3.7.0) (2023.7.22)\n",
      "Requirement already satisfied: blis<0.8.0,>=0.7.8 in /home/spyros/miniconda3/envs/llms/lib/python3.11/site-packages (from thinc<8.3.0,>=8.1.8->spacy<3.8.0,>=3.7.0->el-core-news-sm==3.7.0) (0.7.11)\n",
      "Requirement already satisfied: confection<1.0.0,>=0.0.1 in /home/spyros/miniconda3/envs/llms/lib/python3.11/site-packages (from thinc<8.3.0,>=8.1.8->spacy<3.8.0,>=3.7.0->el-core-news-sm==3.7.0) (0.1.3)\n",
      "Requirement already satisfied: click<9.0.0,>=7.1.1 in /home/spyros/miniconda3/envs/llms/lib/python3.11/site-packages (from typer<0.10.0,>=0.3.0->spacy<3.8.0,>=3.7.0->el-core-news-sm==3.7.0) (8.1.7)\n",
      "Requirement already satisfied: cloudpathlib<0.17.0,>=0.7.0 in /home/spyros/miniconda3/envs/llms/lib/python3.11/site-packages (from weasel<0.4.0,>=0.1.0->spacy<3.8.0,>=3.7.0->el-core-news-sm==3.7.0) (0.16.0)\n",
      "Requirement already satisfied: MarkupSafe>=2.0 in /home/spyros/miniconda3/envs/llms/lib/python3.11/site-packages (from jinja2->spacy<3.8.0,>=3.7.0->el-core-news-sm==3.7.0) (2.1.3)\n",
      "\u001b[38;5;2m✔ Download and installation successful\u001b[0m\n",
      "You can now load the package via spacy.load('el_core_news_sm')\n"
     ]
    }
   ],
   "source": [
    "!python -m spacy download el_core_news_sm"
   ]
  },
  {
   "cell_type": "code",
   "execution_count": 2,
   "id": "0021244a-6b26-4af0-80c1-1633d463f07e",
   "metadata": {},
   "outputs": [],
   "source": [
    "nlp = spacy.load('el_core_news_sm')\n",
    "\n",
    "model = SentenceTransformer('lighteternal/stsb-xlm-r-greek-transfer')"
   ]
  },
  {
   "cell_type": "code",
   "execution_count": 8,
   "id": "a22df730-bea9-484a-b9b1-4441ae8f7696",
   "metadata": {},
   "outputs": [
    {
     "name": "stdout",
     "output_type": "stream",
     "text": [
      "cuda:0\n"
     ]
    }
   ],
   "source": [
    "print(model.device)"
   ]
  },
  {
   "cell_type": "code",
   "execution_count": 9,
   "id": "a67ed558-c1f0-43e1-931c-da2ebc756cf1",
   "metadata": {},
   "outputs": [],
   "source": [
    "model = model.to('cuda')"
   ]
  },
  {
   "cell_type": "code",
   "execution_count": 10,
   "id": "25d15cef-4b17-4f07-a55e-970da3ec3f7b",
   "metadata": {},
   "outputs": [
    {
     "name": "stdout",
     "output_type": "stream",
     "text": [
      "True\n"
     ]
    }
   ],
   "source": [
    "import torch\n",
    "print(torch.cuda.is_available())"
   ]
  },
  {
   "cell_type": "code",
   "execution_count": 11,
   "id": "26324d65-abe1-4fbd-aa1b-f63e26502d34",
   "metadata": {},
   "outputs": [],
   "source": [
    "def process_paragraph(paragraph):\n",
    "    # Split the paragraph into sentences\n",
    "    doc = nlp(paragraph)\n",
    "    sentences = [sent.text for sent in doc.sents]\n",
    "\n",
    "    # Generate an embedding for each sentence\n",
    "    embeddings = model.encode(sentences)\n",
    "\n",
    "    # Aggregate the embeddings by taking the mean\n",
    "    paragraph_embedding = np.mean(embeddings, axis=0)\n",
    "\n",
    "    return paragraph_embedding"
   ]
  },
  {
   "cell_type": "code",
   "execution_count": 12,
   "id": "c8181a6e-1838-4a22-b77e-f39923cf5978",
   "metadata": {},
   "outputs": [],
   "source": [
    "def process_paragraphs(paragraphs):\n",
    "    # Split each paragraph into sentences\n",
    "    docs = list(nlp.pipe(paragraphs))\n",
    "    sentences = [[sent.text for sent in doc.sents] for doc in docs]\n",
    "\n",
    "    # Flatten the list of sentences\n",
    "    sentences_flat = [sent for sublist in sentences for sent in sublist]\n",
    "\n",
    "    # Generate an embedding for each sentence\n",
    "    embeddings = model.encode(sentences_flat)\n",
    "\n",
    "    # Reshape the embeddings to match the original structure\n",
    "    embeddings = np.split(embeddings, np.cumsum([len(sents) for sents in sentences[:-1]]))\n",
    "\n",
    "    # Aggregate the embeddings by taking the mean\n",
    "    paragraph_embeddings = [np.mean(emb, axis=0) for emb in embeddings]\n",
    "\n",
    "    return paragraph_embeddings\n"
   ]
  },
  {
   "cell_type": "code",
   "execution_count": 14,
   "id": "8ef2598a-d276-496f-843b-40708f577040",
   "metadata": {},
   "outputs": [],
   "source": [
    "def process_raw_text_file(file_path, output_csv_path, batch_size=2048):\n",
    "    # Open the output CSV file\n",
    "    with open(file_path, 'r') as file, open(output_csv_path, 'w', newline='') as csvfile:\n",
    "        # Create a CSV writer\n",
    "        writer = csv.writer(csvfile)\n",
    "\n",
    "        # Write the header row\n",
    "        writer.writerow(['line_index', 'embedding'])\n",
    "\n",
    "\n",
    "        start_time = time.time()\n",
    "        paragraphs = []\n",
    "        for line_index, line in enumerate(file):\n",
    "            paragraph = line.strip()\n",
    "            paragraphs.append(paragraph)\n",
    "            if len(paragraphs) == batch_size:\n",
    "                #process embeddings\n",
    "                embeddings = process_paragraphs(paragraphs)\n",
    "                for i, embedding in zip(range(line_index - batch_size + 1, line_index + 1), embeddings):\n",
    "                    writer.writerow([i, embedding.tolist()])\n",
    "                # Throughput\n",
    "                end_time = time.time() \n",
    "                throughput = batch_size / (end_time - start_time) \n",
    "                print(f\"Reached batch size at line {line_index}. Throughput: {throughput} lines/sec\")\n",
    "                paragraphs = []\n",
    "                start_time = time.time() \n",
    "                \n",
    "        if len(paragraphs):\n",
    "            print(\"Final batch:\")\n",
    "            embeddings = process_paragraphs(paragraphs)\n",
    "            for i, embedding in zip(range(line_index - len(paragraphs) + 1, line_index + 1), embeddings):\n",
    "                writer.writerow([i, embedding.tolist()])"
   ]
  },
  {
   "cell_type": "code",
   "execution_count": null,
   "id": "d6f97632-7c12-40e3-b684-48bca563138d",
   "metadata": {},
   "outputs": [
    {
     "name": "stdout",
     "output_type": "stream",
     "text": [
      "Reached batch size at line 2047. Throughput: 30.514341876529585 lines/sec\n",
      "Reached batch size at line 4095. Throughput: 30.057197049087193 lines/sec\n",
      "Reached batch size at line 6143. Throughput: 33.612781425155376 lines/sec\n",
      "Reached batch size at line 8191. Throughput: 28.469353700514873 lines/sec\n",
      "Reached batch size at line 10239. Throughput: 30.396464465816603 lines/sec\n",
      "Reached batch size at line 12287. Throughput: 27.36760373885477 lines/sec\n",
      "Reached batch size at line 14335. Throughput: 27.63264322077476 lines/sec\n",
      "Reached batch size at line 16383. Throughput: 28.790211494872732 lines/sec\n",
      "Reached batch size at line 18431. Throughput: 25.859581260047946 lines/sec\n",
      "Reached batch size at line 20479. Throughput: 28.968540003570205 lines/sec\n",
      "Reached batch size at line 22527. Throughput: 29.59702877472612 lines/sec\n",
      "Reached batch size at line 24575. Throughput: 29.64418201148695 lines/sec\n",
      "Reached batch size at line 26623. Throughput: 28.412085288596103 lines/sec\n",
      "Reached batch size at line 28671. Throughput: 29.338492666663257 lines/sec\n",
      "Reached batch size at line 30719. Throughput: 28.146398218890223 lines/sec\n",
      "Reached batch size at line 32767. Throughput: 30.356906327938592 lines/sec\n",
      "Reached batch size at line 34815. Throughput: 28.535571496789192 lines/sec\n",
      "Reached batch size at line 36863. Throughput: 28.62964739747741 lines/sec\n"
     ]
    }
   ],
   "source": [
    "process_raw_text_file('/home/spyros/Temp/output.txt', '/home/spyros/Temp/output-embeddings.csv')"
   ]
  },
  {
   "cell_type": "code",
   "execution_count": null,
   "id": "9ec49b01-0bc9-4441-9460-919cfab4d418",
   "metadata": {},
   "outputs": [],
   "source": []
  }
 ],
 "metadata": {
  "kernelspec": {
   "display_name": "Python 3 (ipykernel)",
   "language": "python",
   "name": "python3"
  },
  "language_info": {
   "codemirror_mode": {
    "name": "ipython",
    "version": 3
   },
   "file_extension": ".py",
   "mimetype": "text/x-python",
   "name": "python",
   "nbconvert_exporter": "python",
   "pygments_lexer": "ipython3",
   "version": "3.11.5"
  }
 },
 "nbformat": 4,
 "nbformat_minor": 5
}
