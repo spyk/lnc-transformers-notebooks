{
 "cells": [
  {
   "cell_type": "code",
   "execution_count": 7,
   "id": "47698688",
   "metadata": {},
   "outputs": [],
   "source": [
    "import psycopg2\n",
    "\n",
    "# Replace these values with your own database credentials\n",
    "db_host = \"192.168.1.2\"\n",
    "db_port = 55432\n",
    "db_name = \"lnc\"\n",
    "db_user = \"postgres\"\n",
    "db_password = \"postgres\"\n",
    "\n",
    "# Establish a connection to the PostgreSQL database\n",
    "connection = psycopg2.connect(\n",
    "    host=db_host,\n",
    "    port=db_port,\n",
    "    dbname=db_name,\n",
    "    user=db_user,\n",
    "    password=db_password\n",
    ")"
   ]
  },
  {
   "cell_type": "code",
   "execution_count": 8,
   "id": "19d0181c",
   "metadata": {},
   "outputs": [],
   "source": [
    "cursor = connection.cursor()"
   ]
  },
  {
   "cell_type": "code",
   "execution_count": 9,
   "id": "4def85f9",
   "metadata": {},
   "outputs": [],
   "source": [
    "cursor.execute(\"SELECT version();\")\n",
    "db_version = cursor.fetchone()"
   ]
  },
  {
   "cell_type": "code",
   "execution_count": 10,
   "id": "568b1ed0",
   "metadata": {},
   "outputs": [
    {
     "name": "stdout",
     "output_type": "stream",
     "text": [
      "Connected to PostgreSQL database. Version: ('PostgreSQL 15.2 (Debian 15.2-1.pgdg110+1) on x86_64-pc-linux-gnu, compiled by gcc (Debian 10.2.1-6) 10.2.1 20210110, 64-bit',)\n"
     ]
    }
   ],
   "source": [
    "print(\"Connected to PostgreSQL database. Version:\", db_version)"
   ]
  },
  {
   "cell_type": "code",
   "execution_count": 11,
   "id": "9bb143eb",
   "metadata": {},
   "outputs": [],
   "source": [
    "from sklearn.preprocessing import normalize\n",
    "import numpy as np\n",
    "\n",
    "def normalize_l2(vector):\n",
    "    float_array = np.array(vector)\n",
    "    reshaped_array = float_array.reshape(1, -1)\n",
    "    normalized_array = normalize(reshaped_array, norm='l2')\n",
    "    normalized_list = normalized_array.tolist()[0]\n",
    "    \n",
    "    return normalized_list"
   ]
  },
  {
   "cell_type": "code",
   "execution_count": null,
   "id": "e694559e",
   "metadata": {},
   "outputs": [
    {
     "name": "stdout",
     "output_type": "stream",
     "text": [
      "Total rows $-1\n"
     ]
    },
    {
     "name": "stderr",
     "output_type": "stream",
     "text": [
      "\n",
      "0it [25:59, ?it/s]\u001b[A\n",
      "\n",
      "5000it [00:20, 248.14it/s]\u001b[A\n",
      "5000it [00:31, 248.14it/s]\u001b[A\n",
      "10000it [00:41, 241.65it/s]\u001b[A\n",
      "10000it [00:53, 241.65it/s]\u001b[A\n",
      "15000it [01:02, 240.43it/s]\u001b[A\n",
      "15000it [01:13, 240.43it/s]\u001b[A\n",
      "20000it [01:24, 234.34it/s]\u001b[A\n",
      "20000it [01:36, 234.34it/s]\u001b[A\n",
      "25000it [01:45, 233.70it/s]\u001b[A\n",
      "25000it [01:58, 233.70it/s]\u001b[A\n",
      "30000it [02:11, 217.96it/s]\u001b[A\n",
      "30000it [02:28, 217.96it/s]\u001b[A\n",
      "35000it [02:30, 230.96it/s]\u001b[A\n",
      "35000it [02:48, 230.96it/s]\u001b[A\n",
      "40000it [02:51, 233.77it/s]\u001b[A\n",
      "40000it [03:08, 233.77it/s]\u001b[A\n",
      "45000it [03:11, 240.39it/s]\u001b[A\n",
      "45000it [03:28, 240.39it/s]\u001b[A\n",
      "50000it [03:31, 241.92it/s]\u001b[A\n",
      "50000it [03:48, 241.92it/s]\u001b[A\n",
      "55000it [03:52, 240.85it/s]\u001b[A\n",
      "55000it [04:08, 240.85it/s]\u001b[A\n",
      "60000it [04:12, 243.17it/s]\u001b[A\n",
      "60000it [04:28, 243.17it/s]\u001b[A\n",
      "65000it [04:32, 244.48it/s]\u001b[A\n",
      "65000it [04:48, 244.48it/s]\u001b[A\n",
      "70000it [04:53, 242.16it/s]\u001b[A\n",
      "70000it [05:08, 242.16it/s]\u001b[A\n",
      "75000it [05:14, 242.40it/s]\u001b[A\n",
      "75000it [05:28, 242.40it/s]\u001b[A\n",
      "80000it [05:34, 244.91it/s]\u001b[A\n",
      "80000it [05:48, 244.91it/s]\u001b[A\n",
      "85000it [05:56, 238.69it/s]\u001b[A\n",
      "85000it [06:08, 238.69it/s]\u001b[A\n",
      "90000it [06:17, 240.04it/s]\u001b[A\n",
      "140000it [09:55, 250.97it/s]\u001b[A\n",
      "145000it [10:04, 241.88it/s]\u001b[A\n",
      "145000it [10:15, 241.88it/s]\u001b[A\n",
      "150000it [10:26, 237.56it/s]\u001b[A\n",
      "150000it [10:38, 237.56it/s]\u001b[A\n",
      "155000it [10:48, 234.52it/s]\u001b[A\n",
      "155000it [11:00, 234.52it/s]\u001b[A\n",
      "160000it [11:10, 232.78it/s]\u001b[A\n",
      "160000it [11:22, 232.78it/s]\u001b[A\n",
      "165000it [11:37, 215.57it/s]\u001b[A\n",
      "165000it [11:52, 215.57it/s]\u001b[A\n",
      "170000it [11:59, 219.93it/s]\u001b[A\n",
      "170000it [12:12, 219.93it/s]\u001b[A\n",
      "175000it [12:24, 213.68it/s]\u001b[A\n",
      "175000it [12:42, 213.68it/s]\u001b[A\n",
      "180000it [12:45, 220.72it/s]\u001b[A\n",
      "180000it [13:02, 220.72it/s]\u001b[A\n",
      "2325000it [2:31:31, 279.03it/s]\u001b[A"
     ]
    }
   ],
   "source": [
    "import pysolr\n",
    "from psycopg2 import extras\n",
    "from datetime import datetime\n",
    "from tqdm import tqdm\n",
    "\n",
    "\n",
    "batch_size = 5000\n",
    "\n",
    "sql = \"\"\"\n",
    "    select \n",
    "        i.id, feed_id, f.publisher, i.title, i.summary, i.\"content\", \n",
    "        i.target_url, i.published_at, i.created_at, i.feed_tags, i.authors, \n",
    "        i.paragraph_embeddings_avg\n",
    "    from item i\n",
    "    join feed f on f.id = i.feed_id\n",
    "    where i.paragraph_embeddings_avg is not null\n",
    "    order by i.created_at asc\n",
    "    ;\n",
    "\"\"\"\n",
    "\n",
    "cursor = connection.cursor('lnc_cursor', cursor_factory=psycopg2.extras.RealDictCursor)\n",
    "cursor.itersize = batch_size \n",
    "\n",
    "# Retrieve documents from PostgreSQL\n",
    "cursor.execute(sql)\n",
    "\n",
    "total_rows = cursor.rowcount\n",
    "print(f\"Total rows ${total_rows}\")\n",
    "rows_processed = 0\n",
    "pbar = tqdm(total=total_rows)\n",
    "\n",
    "# Connect to Solr\n",
    "solr = pysolr.Solr('http://localhost:8983/solr/lnc', always_commit=False)\n",
    "               \n",
    "# Index documents in a streaming fashion\n",
    "i = 0\n",
    "solr_documents = []\n",
    "try: \n",
    "    for row in cursor:\n",
    "        solr_doc = {\n",
    "            'id': str(row['id']),\n",
    "            'feed_id': str(row['feed_id']),\n",
    "            'feed': str(row['publisher']),\n",
    "            'title': str(row['title']),\n",
    "            'summary': str(row['summary']),\n",
    "            'content': str(row['content']),\n",
    "            'target_url': str(row['target_url']),\n",
    "            'published_at': datetime.strftime(row['published_at'], '%Y-%m-%dT%H:%M:%SZ'),\n",
    "            'created_at': datetime.strftime(row['created_at'], '%Y-%m-%dT%H:%M:%SZ'),\n",
    "            'feed_tags': str(row['feed_tags']),\n",
    "            'authors': str(row['authors']),\n",
    "            'par_embeddings_dp': normalize_l2(row['paragraph_embeddings_avg'])\n",
    "        }\n",
    "        solr_documents.append(solr_doc)\n",
    "        \n",
    "        i = i + 1\n",
    "        if i % batch_size == 0:\n",
    "            solr.add(solr_documents, commit=True)\n",
    "            solr_documents = []\n",
    "            pbar.update(batch_size)\n",
    "    solr.add(solr_documents, commit=True)\n",
    "    \n",
    "except Exception as e:\n",
    "    print(f\"Error indexing documents to Solr: {e}\")\n",
    "\n",
    "# Commit changes\n",
    "solr.commit()\n",
    "\n",
    "# Close connections\n",
    "cursor.close()\n",
    "connection.close()\n"
   ]
  },
  {
   "cell_type": "code",
   "execution_count": null,
   "id": "d786e572",
   "metadata": {},
   "outputs": [],
   "source": [
    "7"
   ]
  },
  {
   "cell_type": "code",
   "execution_count": null,
   "id": "9c521734-d79f-4f57-bb83-34affe95cdb9",
   "metadata": {},
   "outputs": [],
   "source": []
  }
 ],
 "metadata": {
  "kernelspec": {
   "display_name": "Python 3 (ipykernel)",
   "language": "python",
   "name": "python3"
  },
  "language_info": {
   "codemirror_mode": {
    "name": "ipython",
    "version": 3
   },
   "file_extension": ".py",
   "mimetype": "text/x-python",
   "name": "python",
   "nbconvert_exporter": "python",
   "pygments_lexer": "ipython3",
   "version": "3.11.5"
  }
 },
 "nbformat": 4,
 "nbformat_minor": 5
}
